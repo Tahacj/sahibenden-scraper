{
 "cells": [
  {
   "cell_type": "code",
   "execution_count": 58,
   "metadata": {},
   "outputs": [],
   "source": [
    "import pandas as pd\n",
    "from sklearn.cluster import KMeans\n",
    "import numpy as np\n",
    "import matplotlib.pyplot as plt\n",
    "from sklearn.preprocessing import LabelEncoder"
   ]
  },
  {
   "cell_type": "code",
   "execution_count": 59,
   "metadata": {},
   "outputs": [],
   "source": [
    "file_path = 'all_car_listings.csv'\n",
    "\n",
    "df = pd.read_csv(file_path)\n"
   ]
  },
  {
   "cell_type": "markdown",
   "metadata": {},
   "source": [
    "Cleaning data"
   ]
  },
  {
   "cell_type": "code",
   "execution_count": 61,
   "metadata": {},
   "outputs": [
    {
     "name": "stdout",
     "output_type": "stream",
     "text": [
      "Old Price : 589.900 TL\n",
      "New Price : 589900\n"
     ]
    }
   ],
   "source": [
    "print(f'Old Price : {df['Fiyat'][0]}')\n",
    "df['Fiyat'] = df['Fiyat'].str.replace(' TL', '').str.replace('.', '').astype(int)\n",
    "print(f'New Price : {df['Fiyat'][0]}')"
   ]
  },
  {
   "cell_type": "code",
   "execution_count": 62,
   "metadata": {},
   "outputs": [
    {
     "name": "stdout",
     "output_type": "stream",
     "text": [
      "Old : 61.0\n",
      "New : 61000\n"
     ]
    }
   ],
   "source": [
    "print(f'Old : {df['KM'][0]}')\n",
    "df['KM'] = (df['KM'] * 1000).astype(int)\n",
    "print(f'New : {df['KM'][0]}')"
   ]
  },
  {
   "cell_type": "code",
   "execution_count": 63,
   "metadata": {},
   "outputs": [
    {
     "name": "stdout",
     "output_type": "stream",
     "text": [
      "Old : 1368 cc\n",
      "New : 1368\n"
     ]
    }
   ],
   "source": [
    "print(f'Old : {df['Motor Hacmi'][0]}')\n",
    "df['Motor Hacmi'] = df['Motor Hacmi'].str[:4]\n",
    "print(f'New : {df['Motor Hacmi'][0]}')"
   ]
  },
  {
   "cell_type": "markdown",
   "metadata": {},
   "source": [
    "Droping tables that contains only one value "
   ]
  },
  {
   "cell_type": "code",
   "execution_count": 64,
   "metadata": {},
   "outputs": [],
   "source": [
    "df = df.drop(columns = ['Marka', 'İlan No' , 'Araç Durumu' , 'Çekiş' , 'Plaka / Uyruk'] , inplace= False)"
   ]
  },
  {
   "cell_type": "markdown",
   "metadata": {},
   "source": [
    "Lable encoding columns that has only 2 values"
   ]
  },
  {
   "cell_type": "code",
   "execution_count": 65,
   "metadata": {},
   "outputs": [],
   "source": [
    "encoder = LabelEncoder()\n",
    "# Apply label encoding to each column because each column has only 2 values\n",
    "for col in ['Takas', 'Ağır Hasar Kayıtlı' , 'Garanti' , 'Vites']:\n",
    "    df[col] = encoder.fit_transform(df[col])"
   ]
  },
  {
   "cell_type": "markdown",
   "metadata": {},
   "source": [
    "One-hot encoding fuel type "
   ]
  },
  {
   "cell_type": "code",
   "execution_count": 66,
   "metadata": {},
   "outputs": [
    {
     "data": {
      "text/html": [
       "<div>\n",
       "<style scoped>\n",
       "    .dataframe tbody tr th:only-of-type {\n",
       "        vertical-align: middle;\n",
       "    }\n",
       "\n",
       "    .dataframe tbody tr th {\n",
       "        vertical-align: top;\n",
       "    }\n",
       "\n",
       "    .dataframe thead th {\n",
       "        text-align: right;\n",
       "    }\n",
       "</style>\n",
       "<table border=\"1\" class=\"dataframe\">\n",
       "  <thead>\n",
       "    <tr style=\"text-align: right;\">\n",
       "      <th></th>\n",
       "      <th>Yakıt_Benzin</th>\n",
       "      <th>Yakıt_Benzin &amp; LPG</th>\n",
       "      <th>Yakıt_Dizel</th>\n",
       "      <th>Yakıt_Elektrik</th>\n",
       "      <th>Yakıt_Hybrid</th>\n",
       "    </tr>\n",
       "  </thead>\n",
       "  <tbody>\n",
       "    <tr>\n",
       "      <th>0</th>\n",
       "      <td>True</td>\n",
       "      <td>False</td>\n",
       "      <td>False</td>\n",
       "      <td>False</td>\n",
       "      <td>False</td>\n",
       "    </tr>\n",
       "    <tr>\n",
       "      <th>1</th>\n",
       "      <td>False</td>\n",
       "      <td>False</td>\n",
       "      <td>True</td>\n",
       "      <td>False</td>\n",
       "      <td>False</td>\n",
       "    </tr>\n",
       "    <tr>\n",
       "      <th>2</th>\n",
       "      <td>False</td>\n",
       "      <td>False</td>\n",
       "      <td>True</td>\n",
       "      <td>False</td>\n",
       "      <td>False</td>\n",
       "    </tr>\n",
       "    <tr>\n",
       "      <th>3</th>\n",
       "      <td>True</td>\n",
       "      <td>False</td>\n",
       "      <td>False</td>\n",
       "      <td>False</td>\n",
       "      <td>False</td>\n",
       "    </tr>\n",
       "    <tr>\n",
       "      <th>4</th>\n",
       "      <td>False</td>\n",
       "      <td>False</td>\n",
       "      <td>True</td>\n",
       "      <td>False</td>\n",
       "      <td>False</td>\n",
       "    </tr>\n",
       "    <tr>\n",
       "      <th>...</th>\n",
       "      <td>...</td>\n",
       "      <td>...</td>\n",
       "      <td>...</td>\n",
       "      <td>...</td>\n",
       "      <td>...</td>\n",
       "    </tr>\n",
       "    <tr>\n",
       "      <th>917</th>\n",
       "      <td>False</td>\n",
       "      <td>False</td>\n",
       "      <td>True</td>\n",
       "      <td>False</td>\n",
       "      <td>False</td>\n",
       "    </tr>\n",
       "    <tr>\n",
       "      <th>918</th>\n",
       "      <td>True</td>\n",
       "      <td>False</td>\n",
       "      <td>False</td>\n",
       "      <td>False</td>\n",
       "      <td>False</td>\n",
       "    </tr>\n",
       "    <tr>\n",
       "      <th>919</th>\n",
       "      <td>True</td>\n",
       "      <td>False</td>\n",
       "      <td>False</td>\n",
       "      <td>False</td>\n",
       "      <td>False</td>\n",
       "    </tr>\n",
       "    <tr>\n",
       "      <th>920</th>\n",
       "      <td>False</td>\n",
       "      <td>False</td>\n",
       "      <td>True</td>\n",
       "      <td>False</td>\n",
       "      <td>False</td>\n",
       "    </tr>\n",
       "    <tr>\n",
       "      <th>921</th>\n",
       "      <td>False</td>\n",
       "      <td>False</td>\n",
       "      <td>True</td>\n",
       "      <td>False</td>\n",
       "      <td>False</td>\n",
       "    </tr>\n",
       "  </tbody>\n",
       "</table>\n",
       "<p>922 rows × 5 columns</p>\n",
       "</div>"
      ],
      "text/plain": [
       "     Yakıt_Benzin  Yakıt_Benzin & LPG  Yakıt_Dizel  Yakıt_Elektrik  \\\n",
       "0            True               False        False           False   \n",
       "1           False               False         True           False   \n",
       "2           False               False         True           False   \n",
       "3            True               False        False           False   \n",
       "4           False               False         True           False   \n",
       "..            ...                 ...          ...             ...   \n",
       "917         False               False         True           False   \n",
       "918          True               False        False           False   \n",
       "919          True               False        False           False   \n",
       "920         False               False         True           False   \n",
       "921         False               False         True           False   \n",
       "\n",
       "     Yakıt_Hybrid  \n",
       "0           False  \n",
       "1           False  \n",
       "2           False  \n",
       "3           False  \n",
       "4           False  \n",
       "..            ...  \n",
       "917         False  \n",
       "918         False  \n",
       "919         False  \n",
       "920         False  \n",
       "921         False  \n",
       "\n",
       "[922 rows x 5 columns]"
      ]
     },
     "execution_count": 66,
     "metadata": {},
     "output_type": "execute_result"
    }
   ],
   "source": [
    "# Apply pd.get_dummies to create one-hot encoded columns for fuel type\n",
    "df = pd.get_dummies(df, columns=['Yakıt'])\n",
    "df[['Yakıt_Benzin' , 'Yakıt_Benzin & LPG' , 'Yakıt_Dizel' , 'Yakıt_Elektrik' , 'Yakıt_Hybrid']]"
   ]
  },
  {
   "cell_type": "markdown",
   "metadata": {},
   "source": [
    "Product clutering paced on price\n",
    "Note : this is what the assignment needed"
   ]
  },
  {
   "cell_type": "code",
   "execution_count": 67,
   "metadata": {},
   "outputs": [
    {
     "name": "stdout",
     "output_type": "stream",
     "text": [
      "      Fiyat  Fiyat Category cluster\n",
      "0    589900               1     mid\n",
      "1    919000               0    high\n",
      "2    599000               1     mid\n",
      "3    589900               1     mid\n",
      "4    919000               0    high\n",
      "..      ...             ...     ...\n",
      "917  459000               1     mid\n",
      "918  209000               2     low\n",
      "919  729850               0    high\n",
      "920  600000               1     mid\n",
      "921  315000               2     low\n",
      "\n",
      "[922 rows x 3 columns]\n"
     ]
    }
   ],
   "source": [
    "kmeans = KMeans(n_clusters=3, random_state=42)  # We want 3 clusters: low, mid, high\n",
    "\n",
    "prices = df[['Fiyat']]\n",
    "\n",
    "df['Fiyat Category'] = kmeans.fit_predict(prices)\n",
    "\n",
    "# Maping the cluster labels to categories\n",
    "# 0 -> high, 1 -> mid, 2 -> low \n",
    "cluster_mapping = {0: 'high', 1: 'mid', 2: 'low'}\n",
    "\n",
    "# Assign the category labels to a new column 'price_category'\n",
    "df['cluster'] = df['Fiyat Category'].map(cluster_mapping)\n",
    "\n",
    "print(df[['Fiyat' ,'Fiyat Category' , 'cluster']])\n",
    "\n",
    "df = df.drop(columns=['cluster'])"
   ]
  },
  {
   "cell_type": "code",
   "execution_count": 68,
   "metadata": {},
   "outputs": [
    {
     "data": {
      "text/html": [
       "<div>\n",
       "<style scoped>\n",
       "    .dataframe tbody tr th:only-of-type {\n",
       "        vertical-align: middle;\n",
       "    }\n",
       "\n",
       "    .dataframe tbody tr th {\n",
       "        vertical-align: top;\n",
       "    }\n",
       "\n",
       "    .dataframe thead th {\n",
       "        text-align: right;\n",
       "    }\n",
       "</style>\n",
       "<table border=\"1\" class=\"dataframe\">\n",
       "  <thead>\n",
       "    <tr style=\"text-align: right;\">\n",
       "      <th></th>\n",
       "      <th>count</th>\n",
       "      <th>min</th>\n",
       "      <th>max</th>\n",
       "      <th>median</th>\n",
       "      <th>std</th>\n",
       "    </tr>\n",
       "    <tr>\n",
       "      <th>Fiyat Category</th>\n",
       "      <th></th>\n",
       "      <th></th>\n",
       "      <th></th>\n",
       "      <th></th>\n",
       "      <th></th>\n",
       "    </tr>\n",
       "  </thead>\n",
       "  <tbody>\n",
       "    <tr>\n",
       "      <th>0</th>\n",
       "      <td>252</td>\n",
       "      <td>705000</td>\n",
       "      <td>1355000</td>\n",
       "      <td>785000.0</td>\n",
       "      <td>103433.125198</td>\n",
       "    </tr>\n",
       "    <tr>\n",
       "      <th>1</th>\n",
       "      <td>340</td>\n",
       "      <td>452500</td>\n",
       "      <td>700000</td>\n",
       "      <td>602375.0</td>\n",
       "      <td>72552.415132</td>\n",
       "    </tr>\n",
       "    <tr>\n",
       "      <th>2</th>\n",
       "      <td>330</td>\n",
       "      <td>135000</td>\n",
       "      <td>450000</td>\n",
       "      <td>316000.0</td>\n",
       "      <td>86185.991517</td>\n",
       "    </tr>\n",
       "  </tbody>\n",
       "</table>\n",
       "</div>"
      ],
      "text/plain": [
       "                count     min      max    median            std\n",
       "Fiyat Category                                                 \n",
       "0                 252  705000  1355000  785000.0  103433.125198\n",
       "1                 340  452500   700000  602375.0   72552.415132\n",
       "2                 330  135000   450000  316000.0   86185.991517"
      ]
     },
     "execution_count": 68,
     "metadata": {},
     "output_type": "execute_result"
    }
   ],
   "source": [
    "grouped = df.groupby('Fiyat Category')['Fiyat'].agg(['count', 'min', 'max', 'median', 'std'])\n",
    "\n",
    "grouped"
   ]
  },
  {
   "cell_type": "markdown",
   "metadata": {},
   "source": [
    "Creating a histogram presnting the clusters"
   ]
  },
  {
   "cell_type": "code",
   "execution_count": null,
   "metadata": {},
   "outputs": [
    {
     "data": {
      "image/png": "[encoded data removed]",
      "text/plain": [
       "<Figure size 640x480 with 1 Axes>"
      ]
     },
     "metadata": {},
     "output_type": "display_data"
    }
   ],
   "source": [
    "# Loop through each price category and plot its histogram\n",
    "for category in df['Fiyat Category'].unique():\n",
    "    # Select data for the current category\n",
    "    category_data = df[df['Fiyat Category'] == category]['Fiyat']\n",
    "    \n",
    "    # Plot the histogram for the current category\n",
    "    plt.hist(category_data, bins=5, alpha=0.6, label=category, edgecolor='black')\n",
    "\n",
    "# Step 2: Customize the plot\n",
    "plt.title('Price Distribution by Category')\n",
    "plt.xlabel('Price')\n",
    "plt.ylabel('Frequency')\n",
    "plt.legend(title='Price Category')\n",
    "plt.grid(True)\n",
    "\n",
    "# Show the plot\n",
    "plt.show()\n"
   ]
  }
 ],
 "metadata": {
  "kernelspec": {
   "display_name": "Python 3",
   "language": "python",
   "name": "python3"
  },
  "language_info": {
   "codemirror_mode": {
    "name": "ipython",
    "version": 3
   },
   "file_extension": ".py",
   "mimetype": "text/x-python",
   "name": "python",
   "nbconvert_exporter": "python",
   "pygments_lexer": "ipython3",
   "version": "3.12.3"
  }
 },
 "nbformat": 4,
 "nbformat_minor": 2
}
