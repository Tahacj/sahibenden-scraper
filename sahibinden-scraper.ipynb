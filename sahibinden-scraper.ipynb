{
 "cells": [
  {
   "cell_type": "code",
   "execution_count": 14,
   "id": "9d970745",
   "metadata": {
    "execution": {
     "iopub.execute_input": "2024-10-15T20:57:25.840513Z",
     "iopub.status.busy": "2024-10-15T20:57:25.840072Z",
     "iopub.status.idle": "2024-10-15T20:57:26.249207Z",
     "shell.execute_reply": "2024-10-15T20:57:26.246255Z"
    },
    "papermill": {
     "duration": 0.418972,
     "end_time": "2024-10-15T20:57:26.252471",
     "exception": true,
     "start_time": "2024-10-15T20:57:25.833499",
     "status": "failed"
    },
    "tags": []
   },
   "outputs": [],
   "source": [
    "from seleniumbase import Driver\n",
    "from fake_useragent import UserAgent\n",
    "from selenium.webdriver.chrome.options import Options\n",
    "from selenium.webdriver.common.keys import Keys\n",
    "from selenium.webdriver.common.by import By\n",
    "from time import sleep\n",
    "import pandas as pd"
   ]
  },
  {
   "cell_type": "markdown",
   "id": "66aa608c",
   "metadata": {
    "papermill": {
     "duration": null,
     "end_time": null,
     "exception": null,
     "start_time": null,
     "status": "pending"
    },
    "tags": []
   },
   "source": [
    "Selecting Url"
   ]
  },
  {
   "cell_type": "code",
   "execution_count": 15,
   "id": "8361d9a4",
   "metadata": {
    "papermill": {
     "duration": null,
     "end_time": null,
     "exception": null,
     "start_time": null,
     "status": "pending"
    },
    "tags": []
   },
   "outputs": [],
   "source": [
    "main_url = \"https://www.sahibinden.com\"\n",
    "base_url = f\"{main_url}/fiat\""
   ]
  },
  {
   "cell_type": "markdown",
   "id": "45319507",
   "metadata": {
    "papermill": {
     "duration": null,
     "end_time": null,
     "exception": null,
     "start_time": null,
     "status": "pending"
    },
    "tags": []
   },
   "source": [
    "opening browser"
   ]
  },
  {
   "cell_type": "code",
   "execution_count": 16,
   "id": "d5df1e41",
   "metadata": {
    "papermill": {
     "duration": null,
     "end_time": null,
     "exception": null,
     "start_time": null,
     "status": "pending"
    },
    "tags": []
   },
   "outputs": [],
   "source": [
    "# Set up Browser\n",
    "ua = UserAgent()\n",
    "user_agent = ua.random\n",
    "browser = user_agent.split()\n",
    "isphone = False\n",
    "if \"iphone\" in browser or \"android\" in browser:\n",
    "    isphone = True\n",
    "driver = Driver(uc=True , agent = user_agent , headed=True)\n",
    "\n",
    "# Going to page\n",
    "if isphone : \n",
    "    driver.get(main_url)\n",
    "    driver.get(driver.current_url + \"/fiat\")\n",
    "else :\n",
    "    driver.get(base_url)"
   ]
  },
  {
   "cell_type": "markdown",
   "id": "1e1338e2",
   "metadata": {
    "papermill": {
     "duration": null,
     "end_time": null,
     "exception": null,
     "start_time": null,
     "status": "pending"
    },
    "tags": []
   },
   "source": [
    "waiting for cloudflare to initialize"
   ]
  },
  {
   "cell_type": "code",
   "execution_count": 17,
   "id": "e4067eb8",
   "metadata": {
    "papermill": {
     "duration": null,
     "end_time": null,
     "exception": null,
     "start_time": null,
     "status": "pending"
    },
    "tags": []
   },
   "outputs": [],
   "source": [
    "sleep(1)"
   ]
  },
  {
   "cell_type": "markdown",
   "id": "7119ad8e",
   "metadata": {
    "papermill": {
     "duration": null,
     "end_time": null,
     "exception": null,
     "start_time": null,
     "status": "pending"
    },
    "tags": []
   },
   "source": [
    "creating needed variables"
   ]
  },
  {
   "cell_type": "code",
   "execution_count": 18,
   "id": "126d4977",
   "metadata": {
    "papermill": {
     "duration": null,
     "end_time": null,
     "exception": null,
     "start_time": null,
     "status": "pending"
    },
    "tags": []
   },
   "outputs": [],
   "source": [
    "df = pd.DataFrame()\n",
    "gone_in = False\n",
    "results = {}"
   ]
  },
  {
   "cell_type": "markdown",
   "id": "b6c6dfeb",
   "metadata": {
    "papermill": {
     "duration": null,
     "end_time": null,
     "exception": null,
     "start_time": null,
     "status": "pending"
    },
    "tags": []
   },
   "source": [
    "starting data scraping"
   ]
  },
  {
   "cell_type": "code",
   "execution_count": 19,
   "id": "33c4b64e",
   "metadata": {
    "papermill": {
     "duration": null,
     "end_time": null,
     "exception": null,
     "start_time": null,
     "status": "pending"
    },
    "tags": []
   },
   "outputs": [
    {
     "ename": "TypeError",
     "evalue": "can only concatenate str (not \"NoSuchElementException\") to str",
     "output_type": "error",
     "traceback": [
      "\u001b[1;31m---------------------------------------------------------------------------\u001b[0m",
      "\u001b[1;31mNoSuchElementException\u001b[0m                    Traceback (most recent call last)",
      "Cell \u001b[1;32mIn[19], line 87\u001b[0m\n\u001b[0;32m     86\u001b[0m \u001b[38;5;28;01melse\u001b[39;00m :\n\u001b[1;32m---> 87\u001b[0m     next_page_button \u001b[38;5;241m=\u001b[39m  \u001b[43mdriver\u001b[49m\u001b[38;5;241;43m.\u001b[39;49m\u001b[43mfind_element\u001b[49m\u001b[43m(\u001b[49m\u001b[43mBy\u001b[49m\u001b[38;5;241;43m.\u001b[39;49m\u001b[43mLINK_TEXT\u001b[49m\u001b[43m,\u001b[49m\u001b[43m \u001b[49m\u001b[38;5;124;43m'\u001b[39;49m\u001b[38;5;124;43mSonraki\u001b[39;49m\u001b[38;5;124;43m'\u001b[39;49m\u001b[43m)\u001b[49m\n\u001b[0;32m     88\u001b[0m \u001b[38;5;66;03m# driver.click('a[title=\"Sonraki\"]')\u001b[39;00m\n",
      "File \u001b[1;32mc:\\Users\\tahai\\AppData\\Local\\Programs\\Python\\Python312\\Lib\\site-packages\\seleniumbase\\core\\sb_driver.py:21\u001b[0m, in \u001b[0;36mDriverMethods.find_element\u001b[1;34m(self, by, value)\u001b[0m\n\u001b[0;32m     20\u001b[0m     value, by \u001b[38;5;241m=\u001b[39m page_utils\u001b[38;5;241m.\u001b[39mswap_selector_and_by_if_reversed(value, by)\n\u001b[1;32m---> 21\u001b[0m \u001b[38;5;28;01mreturn\u001b[39;00m \u001b[38;5;28;43mself\u001b[39;49m\u001b[38;5;241;43m.\u001b[39;49m\u001b[43mdriver\u001b[49m\u001b[38;5;241;43m.\u001b[39;49m\u001b[43mdefault_find_element\u001b[49m\u001b[43m(\u001b[49m\u001b[43mby\u001b[49m\u001b[38;5;241;43m=\u001b[39;49m\u001b[43mby\u001b[49m\u001b[43m,\u001b[49m\u001b[43m \u001b[49m\u001b[43mvalue\u001b[49m\u001b[38;5;241;43m=\u001b[39;49m\u001b[43mvalue\u001b[49m\u001b[43m)\u001b[49m\n",
      "File \u001b[1;32mc:\\Users\\tahai\\AppData\\Local\\Programs\\Python\\Python312\\Lib\\site-packages\\selenium\\webdriver\\remote\\webdriver.py:748\u001b[0m, in \u001b[0;36mWebDriver.find_element\u001b[1;34m(self, by, value)\u001b[0m\n\u001b[0;32m    746\u001b[0m     value \u001b[38;5;241m=\u001b[39m \u001b[38;5;124mf\u001b[39m\u001b[38;5;124m'\u001b[39m\u001b[38;5;124m[name=\u001b[39m\u001b[38;5;124m\"\u001b[39m\u001b[38;5;132;01m{\u001b[39;00mvalue\u001b[38;5;132;01m}\u001b[39;00m\u001b[38;5;124m\"\u001b[39m\u001b[38;5;124m]\u001b[39m\u001b[38;5;124m'\u001b[39m\n\u001b[1;32m--> 748\u001b[0m \u001b[38;5;28;01mreturn\u001b[39;00m \u001b[38;5;28;43mself\u001b[39;49m\u001b[38;5;241;43m.\u001b[39;49m\u001b[43mexecute\u001b[49m\u001b[43m(\u001b[49m\u001b[43mCommand\u001b[49m\u001b[38;5;241;43m.\u001b[39;49m\u001b[43mFIND_ELEMENT\u001b[49m\u001b[43m,\u001b[49m\u001b[43m \u001b[49m\u001b[43m{\u001b[49m\u001b[38;5;124;43m\"\u001b[39;49m\u001b[38;5;124;43musing\u001b[39;49m\u001b[38;5;124;43m\"\u001b[39;49m\u001b[43m:\u001b[49m\u001b[43m \u001b[49m\u001b[43mby\u001b[49m\u001b[43m,\u001b[49m\u001b[43m \u001b[49m\u001b[38;5;124;43m\"\u001b[39;49m\u001b[38;5;124;43mvalue\u001b[39;49m\u001b[38;5;124;43m\"\u001b[39;49m\u001b[43m:\u001b[49m\u001b[43m \u001b[49m\u001b[43mvalue\u001b[49m\u001b[43m}\u001b[49m\u001b[43m)\u001b[49m[\u001b[38;5;124m\"\u001b[39m\u001b[38;5;124mvalue\u001b[39m\u001b[38;5;124m\"\u001b[39m]\n",
      "File \u001b[1;32mc:\\Users\\tahai\\AppData\\Local\\Programs\\Python\\Python312\\Lib\\site-packages\\selenium\\webdriver\\remote\\webdriver.py:354\u001b[0m, in \u001b[0;36mWebDriver.execute\u001b[1;34m(self, driver_command, params)\u001b[0m\n\u001b[0;32m    353\u001b[0m \u001b[38;5;28;01mif\u001b[39;00m response:\n\u001b[1;32m--> 354\u001b[0m     \u001b[38;5;28;43mself\u001b[39;49m\u001b[38;5;241;43m.\u001b[39;49m\u001b[43merror_handler\u001b[49m\u001b[38;5;241;43m.\u001b[39;49m\u001b[43mcheck_response\u001b[49m\u001b[43m(\u001b[49m\u001b[43mresponse\u001b[49m\u001b[43m)\u001b[49m\n\u001b[0;32m    355\u001b[0m     response[\u001b[38;5;124m\"\u001b[39m\u001b[38;5;124mvalue\u001b[39m\u001b[38;5;124m\"\u001b[39m] \u001b[38;5;241m=\u001b[39m \u001b[38;5;28mself\u001b[39m\u001b[38;5;241m.\u001b[39m_unwrap_value(response\u001b[38;5;241m.\u001b[39mget(\u001b[38;5;124m\"\u001b[39m\u001b[38;5;124mvalue\u001b[39m\u001b[38;5;124m\"\u001b[39m, \u001b[38;5;28;01mNone\u001b[39;00m))\n",
      "File \u001b[1;32mc:\\Users\\tahai\\AppData\\Local\\Programs\\Python\\Python312\\Lib\\site-packages\\selenium\\webdriver\\remote\\errorhandler.py:229\u001b[0m, in \u001b[0;36mErrorHandler.check_response\u001b[1;34m(self, response)\u001b[0m\n\u001b[0;32m    228\u001b[0m     \u001b[38;5;28;01mraise\u001b[39;00m exception_class(message, screen, stacktrace, alert_text)  \u001b[38;5;66;03m# type: ignore[call-arg]  # mypy is not smart enough here\u001b[39;00m\n\u001b[1;32m--> 229\u001b[0m \u001b[38;5;28;01mraise\u001b[39;00m exception_class(message, screen, stacktrace)\n",
      "\u001b[1;31mNoSuchElementException\u001b[0m: Message: no such element: Unable to locate element: {\"method\":\"link text\",\"selector\":\"Sonraki\"}\n  (Session info: chrome=130.0.6723.69); For documentation on this error, please visit: https://www.selenium.dev/documentation/webdriver/troubleshooting/errors#no-such-element-exception\nStacktrace:\n\tGetHandleVerifier [0x00007FF615133AB5+28005]\n\t(No symbol) [0x00007FF6150983B0]\n\t(No symbol) [0x00007FF614F3580A]\n\t(No symbol) [0x00007FF614F85A3E]\n\t(No symbol) [0x00007FF614F85D2C]\n\t(No symbol) [0x00007FF614FCEA97]\n\t(No symbol) [0x00007FF614FABA7F]\n\t(No symbol) [0x00007FF614FCB8B3]\n\t(No symbol) [0x00007FF614FAB7E3]\n\t(No symbol) [0x00007FF614F775C8]\n\t(No symbol) [0x00007FF614F78731]\n\tGetHandleVerifier [0x00007FF61542643D+3118829]\n\tGetHandleVerifier [0x00007FF615476C90+3448640]\n\tGetHandleVerifier [0x00007FF61546CF0D+3408317]\n\tGetHandleVerifier [0x00007FF6151FA40B+841403]\n\t(No symbol) [0x00007FF6150A340F]\n\t(No symbol) [0x00007FF61509F484]\n\t(No symbol) [0x00007FF61509F61D]\n\t(No symbol) [0x00007FF61508EB79]\n\tBaseThreadInitThunk [0x00007FFA5E9CDBE7+23]\n\tRtlUserThreadStart [0x00007FFA60B25A4C+44]\n",
      "\nDuring handling of the above exception, another exception occurred:\n",
      "\u001b[1;31mTypeError\u001b[0m                                 Traceback (most recent call last)",
      "Cell \u001b[1;32mIn[19], line 92\u001b[0m\n\u001b[0;32m     90\u001b[0m     sleep(\u001b[38;5;241m2\u001b[39m)\n\u001b[0;32m     91\u001b[0m \u001b[38;5;28;01mexcept\u001b[39;00m  \u001b[38;5;167;01mException\u001b[39;00m \u001b[38;5;28;01mas\u001b[39;00m err:\n\u001b[1;32m---> 92\u001b[0m     \u001b[38;5;28mprint\u001b[39m(\u001b[38;5;124;43m\"\u001b[39;49m\u001b[38;5;124;43mException on next page\u001b[39;49m\u001b[38;5;124;43m\"\u001b[39;49m\u001b[43m \u001b[49m\u001b[38;5;241;43m+\u001b[39;49m\u001b[43m \u001b[49m\u001b[43merr\u001b[49m)\n\u001b[0;32m     93\u001b[0m     \u001b[38;5;28;01mbreak\u001b[39;00m\n",
      "\u001b[1;31mTypeError\u001b[0m: can only concatenate str (not \"NoSuchElementException\") to str"
     ]
    }
   ],
   "source": [
    "while True:\n",
    "    # Finding all the cars by looking for all \"searchResultsItem\" css elements\n",
    "    # cars = []\n",
    "    if isphone :\n",
    "        cars = driver.find_elements(By.CSS_SELECTOR, '[class*=\"search-result-item\"]')\n",
    "    else :\n",
    "        cars = driver.find_elements(By.CSS_SELECTOR, '[class*=\"searchResultsItem\"]')\n",
    "    # For each car, get the available details and add them to the dataframe\n",
    "    for car in cars:\n",
    "        try:\n",
    "        # if car.text != \"\":\n",
    "            # Open the car details in a new tab or window\n",
    "            # Because sahibenden restes the page after going back so the \"cars\" get's lost\n",
    "            driver.execute_script(\"window.open(arguments[0]);\", car.find_element(By.TAG_NAME, 'a').get_attribute('href'))\n",
    "            sleep(1)\n",
    "\n",
    "            # Switch to the new tab or window\n",
    "            driver.switch_to.window(driver.window_handles[-1])\n",
    "            sleep(1)\n",
    "            # Safety element for exceptions\n",
    "            gone_in = True\n",
    "            sleep(1)\n",
    "\n",
    "            # Wait for the car_details element to be present\n",
    "            if isphone :\n",
    "                car_details = driver.find_element(By.CSS_SELECTOR, '[class*=\"classified-info-list\"]').text.split('\\n')\n",
    "                sleep(1)\n",
    "                location = driver.find_element(By.CSS_SELECTOR, '[class*=\"location-info\"]')\n",
    "            else :\n",
    "                car_details = driver.find_element(By.CSS_SELECTOR, '[class*=\"classifiedInfo\"]').text.split('\\n')\n",
    "            \n",
    "            sleep(1)\n",
    "            # Fill car data\n",
    "            if isphone :\n",
    "                fullAdrs = location.text.split(\" / \")\n",
    "            else :\n",
    "                fullAdrs = car_details[2].split(\" / \")\n",
    "                price = car_details[0]\n",
    "            # Assign each part to a different variable\n",
    "            city, district, neighborhood = fullAdrs\n",
    "            \n",
    "            results = {}\n",
    "            # Assign only available data  \n",
    "            if isphone :\n",
    "                results['price'] = [price]\n",
    "            results['city'] = [city]\n",
    "            results['district'] = [district]\n",
    "            results['neighborhood'] = [neighborhood]\n",
    "            for i in range(0, len(car_details) - 1, 2):\n",
    "                key = car_details[i].strip()  # Remove any leading/trailing spaces from the key\n",
    "                if i + 1 < len(car_details):  # Make sure there is a value after the key\n",
    "                    value = car_details[i + 1].strip()  # Remove any leading/trailing spaces from the value\n",
    "                    results[key] = [value]\n",
    "            \n",
    "\n",
    "            # Append the new DataFrame to the existing DataFrame\n",
    "            sleep(1)\n",
    "            df = pd.concat([df, pd.DataFrame(results)], ignore_index=True)\n",
    "\n",
    "            sleep(1)\n",
    "            # Close the current tab or window\n",
    "            driver.close()\n",
    "\n",
    "            # Switch back to the original tab or window\n",
    "            driver.switch_to.window(driver.window_handles[0])\n",
    "            sleep(1)\n",
    "            gone_in = False\n",
    "\n",
    "        except Exception as err:\n",
    "            # Switch back to the original tab or window\n",
    "            # Check if new window is open and close it\n",
    "            print(f\"page error : {err}\")\n",
    "            if gone_in:\n",
    "                driver.close()\n",
    "                driver.switch_to.window(driver.window_handles[0])\n",
    "                gone_in = False\n",
    "\n",
    "            sleep(1)\n",
    "            print(\"Exception\")\n",
    "            continue\n",
    "            # break\n",
    "    try:\n",
    "        # Find the next page button and because on the last tab it disappears it gives an exeption and goes out \n",
    "        if isphone :\n",
    "            next_page_button = driver.find_element(By.CSS_SELECTOR, '[class*=\"next-page\"]')\n",
    "        else :\n",
    "            next_page_button =  driver.find_element(By.LINK_TEXT, 'Sonraki')\n",
    "        # driver.click('a[title=\"Sonraki\"]')\n",
    "        next_page_button.click()\n",
    "        sleep(2)\n",
    "    except  Exception as err:\n",
    "        print(\"Exception on next page\" + err)\n",
    "        break\n"
   ]
  },
  {
   "cell_type": "markdown",
   "id": "5166f606",
   "metadata": {
    "papermill": {
     "duration": null,
     "end_time": null,
     "exception": null,
     "start_time": null,
     "status": "pending"
    },
    "tags": []
   },
   "source": [
    "Save the data to CSV file"
   ]
  },
  {
   "cell_type": "code",
   "execution_count": null,
   "id": "12c1fe0f",
   "metadata": {},
   "outputs": [],
   "source": [
    "df"
   ]
  },
  {
   "cell_type": "code",
   "execution_count": 8,
   "id": "5e4d40b8",
   "metadata": {
    "papermill": {
     "duration": null,
     "end_time": null,
     "exception": null,
     "start_time": null,
     "status": "pending"
    },
    "tags": []
   },
   "outputs": [],
   "source": [
    "df.to_csv('all_car_listings.csv', index=False)"
   ]
  }
 ],
 "metadata": {
  "kaggle": {
   "accelerator": "none",
   "dataSources": [],
   "isGpuEnabled": false,
   "isInternetEnabled": true,
   "language": "python",
   "sourceType": "notebook"
  },
  "kernelspec": {
   "display_name": "Python 3",
   "language": "python",
   "name": "python3"
  },
  "language_info": {
   "codemirror_mode": {
    "name": "ipython",
    "version": 3
   },
   "file_extension": ".py",
   "mimetype": "text/x-python",
   "name": "python",
   "nbconvert_exporter": "python",
   "pygments_lexer": "ipython3",
   "version": "3.12.3"
  },
  "papermill": {
   "default_parameters": {},
   "duration": 4.108342,
   "end_time": "2024-10-15T20:57:26.680292",
   "environment_variables": {},
   "exception": true,
   "input_path": "__notebook__.ipynb",
   "output_path": "__notebook__.ipynb",
   "parameters": {},
   "start_time": "2024-10-15T20:57:22.571950",
   "version": "2.6.0"
  }
 },
 "nbformat": 4,
 "nbformat_minor": 5
}
